{
 "cells": [
  {
   "cell_type": "code",
   "execution_count": 104,
   "id": "b8b2c8ac",
   "metadata": {},
   "outputs": [],
   "source": [
    "from pprint import pprint\n",
    "import csv\n",
    "import re"
   ]
  },
  {
   "cell_type": "code",
   "execution_count": 105,
   "id": "23673467",
   "metadata": {},
   "outputs": [
    {
     "name": "stdout",
     "output_type": "stream",
     "text": [
      "[['lastname',\n",
      "  'firstname',\n",
      "  'surname',\n",
      "  'organization',\n",
      "  'position',\n",
      "  'phone',\n",
      "  'email'],\n",
      " ['Усольцев Олег Валентинович',\n",
      "  '',\n",
      "  '',\n",
      "  'ФНС',\n",
      "  'главный специалист – эксперт отдела взаимодействия с федеральными органами '\n",
      "  'власти Управления налогообложения имущества и доходов физических лиц',\n",
      "  '+7 (495) 913-04-78',\n",
      "  'opendata@nalog.ru'],\n",
      " ['Мартиняхин Виталий Геннадьевич', '', '', 'ФНС', '', '+74959130037', ''],\n",
      " ['Наркаев', 'Вячеслав Рифхатович', '', 'ФНС', '', '8 495-913-0168', ''],\n",
      " ['Мартиняхин',\n",
      "  'Виталий',\n",
      "  'Геннадьевич',\n",
      "  'ФНС',\n",
      "  'cоветник отдела Интернет проектов Управления информационных технологий',\n",
      "  '',\n",
      "  '',\n",
      "  ''],\n",
      " ['Лукина Ольга Владимировна',\n",
      "  '',\n",
      "  '',\n",
      "  'Минфин',\n",
      "  '',\n",
      "  '+7 (495) 983-36-99 доб. 2926',\n",
      "  'Olga.Lukina@minfin.ru'],\n",
      " ['Паньшин Алексей Владимирович',\n",
      "  '',\n",
      "  '',\n",
      "  'Минфин',\n",
      "  '',\n",
      "  '8(495)748-49-73',\n",
      "  '1248@minfin.ru'],\n",
      " ['Лагунцов Иван Алексеевич',\n",
      "  '',\n",
      "  '',\n",
      "  'Минфин',\n",
      "  '',\n",
      "  '+7 (495) 913-11-11 (доб. 0792)',\n",
      "  ''],\n",
      " ['Лагунцов Иван', '', '', '', '', '', 'Ivan.Laguntcov@minfin.ru']]\n"
     ]
    }
   ],
   "source": [
    "with open(\"phonebook_raw.csv\", encoding='utf-8') as f:\n",
    "    rows = csv.reader(f, delimiter=\",\")\n",
    "    contacts_list = list(rows)\n",
    "pprint(contacts_list)"
   ]
  },
  {
   "cell_type": "code",
   "execution_count": 106,
   "id": "d33f9c6e",
   "metadata": {},
   "outputs": [],
   "source": [
    "# 1. поместить Фамилию, Имя и Отчество человека в поля lastname, firstname и surname соответственно. \n",
    "# В записной книжке изначально может быть Ф + ИО, ФИО, а может быть сразу правильно: Ф+И+О;"
   ]
  },
  {
   "cell_type": "code",
   "execution_count": 107,
   "id": "2e69cc11",
   "metadata": {},
   "outputs": [],
   "source": [
    "pattern = '\\w+'"
   ]
  },
  {
   "cell_type": "code",
   "execution_count": 108,
   "id": "638ed22b",
   "metadata": {},
   "outputs": [],
   "source": [
    "new_contact_list = []\n",
    "new_contact_list.append(contacts_list[0])\n",
    "for contact in contacts_list[1:]:\n",
    "    new_contact = []\n",
    "    full_name = ' '.join(contact[:3])\n",
    "    separated_name = re.findall(pattern, full_name)\n",
    "    n = 0\n",
    "    for i in separated_name:\n",
    "        new_contact.append(i)\n",
    "        n += 1\n",
    "    new_contact.extend(contact[n:])\n",
    "    new_contact_list.append(new_contact)"
   ]
  },
  {
   "cell_type": "code",
   "execution_count": null,
   "id": "5cecf2e6",
   "metadata": {},
   "outputs": [],
   "source": [
    "# Проверяем"
   ]
  },
  {
   "cell_type": "code",
   "execution_count": 113,
   "id": "7d8daa5f",
   "metadata": {},
   "outputs": [
    {
     "name": "stdout",
     "output_type": "stream",
     "text": [
      "['lastname', 'firstname', 'surname']\n",
      "['Усольцев', 'Олег', 'Валентинович']\n",
      "['Мартиняхин', 'Виталий', 'Геннадьевич']\n",
      "['Наркаев', 'Вячеслав', 'Рифхатович']\n",
      "['Мартиняхин', 'Виталий', 'Геннадьевич']\n",
      "['Лукина', 'Ольга', 'Владимировна']\n",
      "['Паньшин', 'Алексей', 'Владимирович']\n",
      "['Лагунцов', 'Иван', 'Алексеевич']\n",
      "['Лагунцов', 'Иван', '']\n"
     ]
    }
   ],
   "source": [
    "for i in new_contact_list:\n",
    "    print(i[:3])"
   ]
  },
  {
   "cell_type": "code",
   "execution_count": 110,
   "id": "bc7ca2b0",
   "metadata": {},
   "outputs": [],
   "source": [
    "# 2. привести все телефоны в формат +7(999)999-99-99. Если есть добавочный номер, формат будет такой: +7(999)999-99-99 доб.9999;"
   ]
  },
  {
   "cell_type": "code",
   "execution_count": 64,
   "id": "10bbf7b9",
   "metadata": {},
   "outputs": [],
   "source": [
    "for i in range(1, len(new_contact_list)):\n",
    "    old_number = new_contact_list[i][-2]\n",
    "    if not old_number:\n",
    "        continue\n",
    "    pattern = r'(\\+7|8)\\s?\\(?(\\d{3})\\)?[-\\s]*(\\d{3})[-\\s]*(\\d{2})[-\\s]*(\\d{2})\\s*\\(*[доб]*\\.*\\s*(\\d{4})?\\)*'\n",
    "    if 'доб' in old_number:\n",
    "        new_number = re.sub(pattern, '+7(\\\\2)\\\\3-\\\\4-\\\\5 доб.\\\\6', old_number)\n",
    "    else:\n",
    "        new_number = re.sub(pattern, '+7(\\\\2)\\\\3-\\\\4-\\\\5', old_number)\n",
    "    new_contact_list[i][-2] = new_number"
   ]
  },
  {
   "cell_type": "code",
   "execution_count": 114,
   "id": "8f0078bb",
   "metadata": {},
   "outputs": [],
   "source": [
    "# Проверяем"
   ]
  },
  {
   "cell_type": "code",
   "execution_count": 112,
   "id": "1cad6651",
   "metadata": {},
   "outputs": [
    {
     "name": "stdout",
     "output_type": "stream",
     "text": [
      "phone\n",
      "+7 (495) 913-04-78\n",
      "+74959130037\n",
      "8 495-913-0168\n",
      "\n",
      "+7 (495) 983-36-99 доб. 2926\n",
      "8(495)748-49-73\n",
      "+7 (495) 913-11-11 (доб. 0792)\n",
      "\n"
     ]
    }
   ],
   "source": [
    "for i in new_contact_list:\n",
    "    print(i[-2])"
   ]
  },
  {
   "cell_type": "code",
   "execution_count": 115,
   "id": "2d85f501",
   "metadata": {},
   "outputs": [],
   "source": [
    "# 3. объединить все дублирующиеся записи о человеке в одну."
   ]
  },
  {
   "cell_type": "code",
   "execution_count": 116,
   "id": "991667a9",
   "metadata": {},
   "outputs": [],
   "source": [
    "#выберем все уникальных людей (имя + фамилия)\n",
    "people = []\n",
    "for i in range(1, len(new_contact_list)):\n",
    "    people.append(' '.join(new_contact_list[i][:2]))\n",
    "    \n",
    "un_people = list(set(people))"
   ]
  },
  {
   "cell_type": "code",
   "execution_count": 117,
   "id": "40d2ff43",
   "metadata": {},
   "outputs": [
    {
     "data": {
      "text/plain": [
       "['Мартиняхин Виталий',\n",
       " 'Лукина Ольга',\n",
       " 'Усольцев Олег',\n",
       " 'Паньшин Алексей',\n",
       " 'Лагунцов Иван',\n",
       " 'Наркаев Вячеслав']"
      ]
     },
     "execution_count": 117,
     "metadata": {},
     "output_type": "execute_result"
    }
   ],
   "source": [
    "un_people"
   ]
  },
  {
   "cell_type": "code",
   "execution_count": 118,
   "id": "cbd59bf8",
   "metadata": {},
   "outputs": [],
   "source": [
    "#  отберем из всех записей уникальные и дубликаты"
   ]
  },
  {
   "cell_type": "code",
   "execution_count": 119,
   "id": "67bdc747",
   "metadata": {},
   "outputs": [],
   "source": [
    "unique_contact_list = []\n",
    "duplicates = []\n",
    "for man in un_people:\n",
    "    one_last_name = [i for i in new_contact_list if i[0] == man.split(' ')[0] and i[1] == man.split(' ')[1]]\n",
    "    if len(one_last_name) != 1:\n",
    "        duplicates.append(one_last_name)\n",
    "    else:\n",
    "        unique_contact_list.append(one_last_name[0])\n",
    "    "
   ]
  },
  {
   "cell_type": "code",
   "execution_count": 120,
   "id": "cdbba829",
   "metadata": {},
   "outputs": [
    {
     "data": {
      "text/plain": [
       "[[['Мартиняхин', 'Виталий', 'Геннадьевич', 'ФНС', '', '+74959130037', ''],\n",
       "  ['Мартиняхин',\n",
       "   'Виталий',\n",
       "   'Геннадьевич',\n",
       "   'ФНС',\n",
       "   'cоветник отдела Интернет проектов Управления информационных технологий',\n",
       "   '',\n",
       "   '',\n",
       "   '']],\n",
       " [['Лагунцов',\n",
       "   'Иван',\n",
       "   'Алексеевич',\n",
       "   'Минфин',\n",
       "   '',\n",
       "   '+7 (495) 913-11-11 (доб. 0792)',\n",
       "   ''],\n",
       "  ['Лагунцов', 'Иван', '', '', '', '', 'Ivan.Laguntcov@minfin.ru']]]"
      ]
     },
     "execution_count": 120,
     "metadata": {},
     "output_type": "execute_result"
    }
   ],
   "source": [
    "duplicates"
   ]
  },
  {
   "cell_type": "code",
   "execution_count": 121,
   "id": "4a6df89f",
   "metadata": {},
   "outputs": [
    {
     "data": {
      "text/plain": [
       "[['Лукина',\n",
       "  'Ольга',\n",
       "  'Владимировна',\n",
       "  'Минфин',\n",
       "  '',\n",
       "  '+7 (495) 983-36-99 доб. 2926',\n",
       "  'Olga.Lukina@minfin.ru'],\n",
       " ['Усольцев',\n",
       "  'Олег',\n",
       "  'Валентинович',\n",
       "  'ФНС',\n",
       "  'главный специалист – эксперт отдела взаимодействия с федеральными органами власти Управления налогообложения имущества и доходов физических лиц',\n",
       "  '+7 (495) 913-04-78',\n",
       "  'opendata@nalog.ru'],\n",
       " ['Паньшин',\n",
       "  'Алексей',\n",
       "  'Владимирович',\n",
       "  'Минфин',\n",
       "  '',\n",
       "  '8(495)748-49-73',\n",
       "  '1248@minfin.ru'],\n",
       " ['Наркаев', 'Вячеслав', 'Рифхатович', 'ФНС', '', '8 495-913-0168', '']]"
      ]
     },
     "execution_count": 121,
     "metadata": {},
     "output_type": "execute_result"
    }
   ],
   "source": [
    "unique_contact_list"
   ]
  },
  {
   "cell_type": "code",
   "execution_count": 122,
   "id": "1c650aa1",
   "metadata": {},
   "outputs": [],
   "source": [
    "# объединим дубликаты в одну запись"
   ]
  },
  {
   "cell_type": "code",
   "execution_count": 123,
   "id": "bf7f9155",
   "metadata": {},
   "outputs": [],
   "source": [
    "full_contacts = []"
   ]
  },
  {
   "cell_type": "code",
   "execution_count": 124,
   "id": "256cd01b",
   "metadata": {},
   "outputs": [],
   "source": [
    "for d in duplicates:\n",
    "    cont = []\n",
    "    for item in range(len(d[0])):\n",
    "        max_len = max([len(i[item]) for i in d])\n",
    "        filed = [i[item] for i in d if len(i[item]) == max_len][0]\n",
    "        cont.append(filed)\n",
    "    \n",
    "    full_contacts.append(cont)    \n",
    "            "
   ]
  },
  {
   "cell_type": "code",
   "execution_count": 125,
   "id": "469f95d7",
   "metadata": {},
   "outputs": [],
   "source": [
    "# соединим все в финальный список"
   ]
  },
  {
   "cell_type": "code",
   "execution_count": 126,
   "id": "e3a1d6ff",
   "metadata": {},
   "outputs": [],
   "source": [
    "final_contact_list = []\n",
    "final_contact_list.append(contacts_list[0])\n",
    "final_contact_list.extend(unique_contact_list)\n",
    "final_contact_list.extend(full_contacts)"
   ]
  },
  {
   "cell_type": "code",
   "execution_count": 127,
   "id": "faa12fe6",
   "metadata": {},
   "outputs": [
    {
     "data": {
      "text/plain": [
       "[['lastname',\n",
       "  'firstname',\n",
       "  'surname',\n",
       "  'organization',\n",
       "  'position',\n",
       "  'phone',\n",
       "  'email'],\n",
       " ['Лукина',\n",
       "  'Ольга',\n",
       "  'Владимировна',\n",
       "  'Минфин',\n",
       "  '',\n",
       "  '+7 (495) 983-36-99 доб. 2926',\n",
       "  'Olga.Lukina@minfin.ru'],\n",
       " ['Усольцев',\n",
       "  'Олег',\n",
       "  'Валентинович',\n",
       "  'ФНС',\n",
       "  'главный специалист – эксперт отдела взаимодействия с федеральными органами власти Управления налогообложения имущества и доходов физических лиц',\n",
       "  '+7 (495) 913-04-78',\n",
       "  'opendata@nalog.ru'],\n",
       " ['Паньшин',\n",
       "  'Алексей',\n",
       "  'Владимирович',\n",
       "  'Минфин',\n",
       "  '',\n",
       "  '8(495)748-49-73',\n",
       "  '1248@minfin.ru'],\n",
       " ['Наркаев', 'Вячеслав', 'Рифхатович', 'ФНС', '', '8 495-913-0168', ''],\n",
       " ['Мартиняхин',\n",
       "  'Виталий',\n",
       "  'Геннадьевич',\n",
       "  'ФНС',\n",
       "  'cоветник отдела Интернет проектов Управления информационных технологий',\n",
       "  '+74959130037',\n",
       "  ''],\n",
       " ['Лагунцов',\n",
       "  'Иван',\n",
       "  'Алексеевич',\n",
       "  'Минфин',\n",
       "  '',\n",
       "  '+7 (495) 913-11-11 (доб. 0792)',\n",
       "  'Ivan.Laguntcov@minfin.ru']]"
      ]
     },
     "execution_count": 127,
     "metadata": {},
     "output_type": "execute_result"
    }
   ],
   "source": [
    "final_contact_list"
   ]
  },
  {
   "cell_type": "code",
   "execution_count": 103,
   "id": "942a4dce",
   "metadata": {},
   "outputs": [],
   "source": [
    "# TODO 1: выполните пункты 1-3 ДЗ\n",
    "# ваш код\n",
    "\n",
    "# TODO 2: сохраните получившиеся данные в другой файл\n",
    "# код для записи файла в формате CSV\n",
    "\"\"\"with open(\"final_phonebook.csv\", \"w\", encoding='utf-8') as f:\n",
    "    datawriter = csv.writer(f, delimiter=',')\n",
    "    # Вместо contacts_list подставьте свой список\n",
    "    datawriter.writerows(final_contact_list)\"\"\"\n"
   ]
  }
 ],
 "metadata": {
  "kernelspec": {
   "display_name": "Python 3",
   "language": "python",
   "name": "python3"
  },
  "language_info": {
   "codemirror_mode": {
    "name": "ipython",
    "version": 3
   },
   "file_extension": ".py",
   "mimetype": "text/x-python",
   "name": "python",
   "nbconvert_exporter": "python",
   "pygments_lexer": "ipython3",
   "version": "3.9.2"
  }
 },
 "nbformat": 4,
 "nbformat_minor": 5
}
